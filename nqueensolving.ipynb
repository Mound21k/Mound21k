{
 "cells": [
  {
   "cell_type": "markdown",
   "metadata": {},
   "source": [
    "### Importing Dependencies"
   ]
  },
  {
   "cell_type": "code",
   "execution_count": 1,
   "metadata": {},
   "outputs": [],
   "source": [
    "from random import randint as rnd\n",
    "from random import shuffle"
   ]
  },
  {
   "cell_type": "markdown",
   "metadata": {},
   "source": [
    "### Setting the Problem and Algorithm Parameters"
   ]
  },
  {
   "cell_type": "code",
   "execution_count": 2,
   "metadata": {},
   "outputs": [],
   "source": [
    "N = 15\n",
    "POPULATION_SIZE = 200\n",
    "\n",
    "MUTATION_RATE = 0.8\n",
    "\n",
    "EPOCH = 200"
   ]
  },
  {
   "cell_type": "markdown",
   "metadata": {},
   "source": [
    "### Initial Population Function"
   ]
  },
  {
   "cell_type": "code",
   "execution_count": 3,
   "metadata": {},
   "outputs": [],
   "source": [
    "def init_population(n, p):\n",
    "    population_list = []\n",
    "    for i in range(p):\n",
    "        member = [rnd(0,n-1) for j in range(n)]+[None]\n",
    "        population_list.append(member)\n",
    "    return population_list"
   ]
  },
  {
   "cell_type": "markdown",
   "metadata": {},
   "source": [
    "### Cross Over Function"
   ]
  },
  {
   "cell_type": "code",
   "execution_count": 4,
   "metadata": {},
   "outputs": [],
   "source": [
    "def cross_over(population_list, n, p):\n",
    "    half = n//2\n",
    "    for i in range(0,p,2):\n",
    "        child1=population_list[i][:half] + population_list[i+1][half:n] + [None]\n",
    "        child2=population_list[i+1][:half] + population_list[i][half:n] + [None]\n",
    "        population_list.append(child1)\n",
    "        population_list.append(child2)\n",
    "    return population_list"
   ]
  },
  {
   "cell_type": "markdown",
   "metadata": {},
   "source": [
    "### Mutation Function"
   ]
  },
  {
   "cell_type": "code",
   "execution_count": 5,
   "metadata": {},
   "outputs": [],
   "source": [
    "def mutation(population_list, n, p, m):\n",
    "    choosen_ones = [i for i in range(p,p*2)]\n",
    "    shuffle(choosen_ones)\n",
    "    choosen_ones=choosen_ones[:int(p*m)]\n",
    "    for i in choosen_ones:\n",
    "        cell = rnd(0,n-1)\n",
    "        population_list[i][cell]=rnd(0,n-1)\n",
    "    return population_list"
   ]
  },
  {
   "cell_type": "markdown",
   "metadata": {},
   "source": [
    "### Fitness Function"
   ]
  },
  {
   "cell_type": "code",
   "execution_count": 6,
   "metadata": {},
   "outputs": [],
   "source": [
    "def fitness(population_list, n):\n",
    "    for memeber_index in range(len(population_list)):\n",
    "        conflict = 0\n",
    "        if population_list[memeber_index][n]==None:\n",
    "            for i in range(n):\n",
    "                for j in range(i+1,n):\n",
    "                    if population_list[memeber_index][i]==population_list[memeber_index][j]:\n",
    "                        conflict+=1\n",
    "                    if abs(population_list[memeber_index][i]-population_list[memeber_index][j])==abs(i-j):\n",
    "                        conflict+=1        \n",
    "            population_list[memeber_index][n]=conflict\n",
    "    return population_list"
   ]
  },
  {
   "cell_type": "markdown",
   "metadata": {},
   "source": [
    "### Main"
   ]
  },
  {
   "cell_type": "code",
   "execution_count": 7,
   "metadata": {},
   "outputs": [
    {
     "name": "stdout",
     "output_type": "stream",
     "text": [
      "# 1 Best Solution so far: [13, 3, 7, 11, 1, 10, 9, 0, 8, 2, 2, 6, 11, 4, 12, 6]\n",
      "# 2 Best Solution so far: [13, 3, 7, 11, 1, 10, 9, 0, 8, 2, 2, 6, 11, 4, 12, 6]\n",
      "# 3 Best Solution so far: [13, 3, 7, 11, 1, 10, 9, 0, 8, 2, 2, 6, 11, 4, 12, 6]\n",
      "# 4 Best Solution so far: [13, 3, 7, 11, 1, 10, 9, 0, 8, 2, 2, 6, 11, 4, 12, 6]\n",
      "# 5 Best Solution so far: [13, 3, 7, 11, 1, 10, 9, 0, 8, 2, 2, 6, 11, 4, 12, 6]\n",
      "# 6 Best Solution so far: [1, 10, 4, 7, 0, 0, 13, 14, 8, 12, 4, 2, 11, 5, 12, 5]\n",
      "# 7 Best Solution so far: [1, 10, 4, 7, 0, 0, 13, 14, 8, 12, 4, 2, 11, 5, 12, 5]\n",
      "# 8 Best Solution so far: [1, 10, 4, 7, 0, 0, 13, 14, 8, 12, 4, 2, 11, 5, 12, 5]\n",
      "# 9 Best Solution so far: [1, 10, 4, 7, 0, 0, 13, 14, 8, 12, 4, 2, 11, 5, 12, 5]\n",
      "# 10 Best Solution so far: [1, 10, 4, 7, 0, 0, 13, 14, 8, 12, 4, 2, 11, 5, 12, 5]\n",
      "# 11 Best Solution so far: [1, 10, 4, 7, 0, 0, 13, 14, 8, 12, 4, 2, 11, 5, 12, 5]\n",
      "# 12 Best Solution so far: [3, 7, 10, 8, 5, 1, 13, 0, 8, 13, 2, 6, 11, 4, 12, 4]\n",
      "# 13 Best Solution so far: [3, 7, 10, 8, 5, 1, 13, 0, 8, 13, 2, 6, 11, 4, 12, 4]\n",
      "# 14 Best Solution so far: [3, 7, 10, 8, 5, 1, 13, 0, 8, 13, 2, 6, 11, 4, 12, 4]\n",
      "# 15 Best Solution so far: [3, 7, 11, 8, 5, 1, 13, 0, 10, 13, 2, 6, 11, 4, 12, 3]\n",
      "# 16 Best Solution so far: [3, 7, 11, 8, 5, 1, 13, 0, 10, 13, 2, 6, 11, 4, 12, 3]\n",
      "# 17 Best Solution so far: [3, 7, 11, 8, 5, 1, 13, 0, 10, 13, 2, 6, 11, 4, 12, 3]\n",
      "# 18 Best Solution so far: [3, 7, 11, 8, 5, 1, 13, 0, 10, 13, 2, 6, 11, 4, 12, 3]\n",
      "# 19 Best Solution so far: [3, 7, 11, 8, 5, 1, 13, 0, 10, 13, 2, 6, 11, 4, 12, 3]\n",
      "# 20 Best Solution so far: [3, 7, 11, 8, 5, 1, 13, 0, 10, 13, 2, 6, 11, 4, 12, 3]\n",
      "# 21 Best Solution so far: [3, 7, 11, 8, 5, 1, 13, 0, 10, 13, 2, 6, 11, 4, 12, 3]\n",
      "# 22 Best Solution so far: [3, 7, 11, 8, 5, 1, 13, 0, 10, 13, 2, 6, 11, 4, 12, 3]\n",
      "# 23 Best Solution so far: [3, 7, 11, 8, 5, 1, 13, 0, 10, 13, 2, 6, 11, 4, 12, 3]\n",
      "# 24 Best Solution so far: [3, 7, 11, 8, 5, 1, 13, 0, 10, 13, 2, 6, 11, 4, 12, 3]\n",
      "# 25 Best Solution so far: [3, 7, 11, 8, 5, 1, 13, 0, 10, 13, 2, 6, 11, 4, 12, 3]\n",
      "# 26 Best Solution so far: [3, 7, 11, 8, 5, 1, 13, 0, 10, 13, 2, 6, 11, 4, 12, 3]\n",
      "# 27 Best Solution so far: [3, 7, 11, 8, 5, 1, 13, 0, 10, 13, 2, 6, 11, 4, 12, 3]\n",
      "# 28 Best Solution so far: [3, 7, 11, 8, 5, 1, 13, 0, 10, 13, 2, 6, 11, 4, 12, 3]\n",
      "# 29 Best Solution so far: [3, 7, 11, 8, 5, 1, 13, 0, 10, 13, 2, 6, 11, 4, 12, 3]\n",
      "# 30 Best Solution so far: [3, 7, 11, 8, 5, 1, 13, 0, 10, 13, 2, 6, 11, 4, 12, 3]\n",
      "# 31 Best Solution so far: [3, 7, 11, 8, 5, 1, 13, 0, 10, 13, 2, 6, 11, 4, 12, 3]\n",
      "# 32 Best Solution so far: [3, 7, 11, 8, 5, 1, 14, 0, 10, 13, 2, 6, 11, 3, 12, 2]\n",
      "# 33 Best Solution so far: [3, 7, 11, 8, 5, 1, 14, 0, 10, 13, 2, 6, 11, 3, 12, 2]\n",
      "# 34 Best Solution so far: [3, 7, 11, 8, 5, 1, 14, 0, 10, 13, 2, 6, 11, 3, 12, 2]\n",
      "# 35 Best Solution so far: [3, 7, 11, 8, 5, 1, 14, 0, 10, 13, 2, 6, 11, 3, 12, 2]\n",
      "# 36 Best Solution so far: [3, 7, 11, 8, 5, 1, 14, 0, 10, 13, 2, 6, 11, 3, 12, 2]\n",
      "# 37 Best Solution so far: [3, 7, 11, 8, 5, 1, 14, 0, 10, 13, 2, 6, 11, 3, 12, 2]\n",
      "# 38 Best Solution so far: [3, 7, 11, 8, 5, 1, 14, 0, 10, 13, 2, 6, 11, 3, 12, 2]\n",
      "# 39 Best Solution so far: [3, 7, 11, 8, 5, 1, 14, 0, 10, 13, 2, 6, 11, 3, 12, 2]\n",
      "# 40 Best Solution so far: [3, 7, 11, 8, 5, 1, 14, 0, 10, 13, 2, 6, 11, 3, 12, 2]\n",
      "# 41 Best Solution so far: [3, 7, 11, 8, 5, 1, 14, 0, 10, 13, 2, 6, 11, 3, 12, 2]\n",
      "# 42 Best Solution so far: [3, 7, 11, 8, 5, 1, 14, 0, 10, 13, 2, 6, 11, 3, 12, 2]\n",
      "# 43 Best Solution so far: [3, 7, 11, 8, 5, 1, 14, 0, 10, 13, 2, 6, 11, 3, 12, 2]\n",
      "# 44 Best Solution so far: [3, 7, 11, 8, 5, 1, 14, 0, 10, 13, 2, 6, 11, 3, 12, 2]\n",
      "# 45 Best Solution so far: [3, 7, 11, 8, 5, 1, 14, 0, 10, 13, 2, 6, 11, 3, 12, 2]\n",
      "# 46 Best Solution so far: [3, 7, 11, 8, 5, 1, 14, 0, 10, 13, 2, 6, 11, 3, 12, 2]\n",
      "# 47 Best Solution so far: [3, 7, 11, 8, 5, 1, 14, 0, 10, 13, 2, 6, 11, 3, 12, 2]\n",
      "# 48 Best Solution so far: [3, 7, 11, 8, 5, 1, 14, 0, 10, 13, 2, 6, 9, 4, 12, 1]\n",
      "# 49 Best Solution so far: [3, 7, 11, 8, 5, 1, 14, 0, 10, 13, 2, 6, 9, 4, 12, 1]\n",
      "# 50 Best Solution so far: [3, 7, 11, 8, 5, 1, 14, 0, 10, 13, 2, 6, 9, 4, 12, 1]\n",
      "# 51 Best Solution so far: [3, 7, 11, 8, 5, 1, 14, 0, 10, 13, 2, 6, 9, 4, 12, 1]\n",
      "# 52 Best Solution so far: [3, 7, 11, 8, 5, 1, 14, 0, 10, 13, 2, 6, 9, 4, 12, 1]\n",
      "# 53 Best Solution so far: [3, 7, 11, 8, 5, 1, 14, 0, 10, 13, 2, 6, 9, 4, 12, 1]\n",
      "# 54 Best Solution so far: [3, 7, 11, 8, 5, 1, 14, 0, 10, 13, 2, 6, 9, 4, 12, 1]\n",
      "# 55 Best Solution so far: [3, 7, 11, 8, 5, 1, 14, 0, 10, 13, 2, 6, 9, 4, 12, 1]\n",
      "# 56 Best Solution so far: [3, 7, 11, 8, 5, 1, 14, 0, 10, 13, 2, 6, 9, 4, 12, 1]\n",
      "# 57 Best Solution so far: [3, 7, 11, 8, 5, 1, 14, 0, 10, 13, 2, 6, 9, 4, 12, 1]\n",
      "# 58 Best Solution so far: [3, 7, 11, 8, 5, 1, 14, 0, 10, 13, 2, 6, 9, 4, 12, 1]\n",
      "# 59 Best Solution so far: [3, 7, 11, 8, 5, 1, 14, 0, 10, 13, 2, 6, 9, 4, 12, 1]\n",
      "# 60 Best Solution so far: [3, 7, 11, 8, 5, 1, 14, 0, 10, 13, 2, 6, 9, 4, 12, 1]\n",
      "# 61 Best Solution so far: [3, 7, 11, 8, 5, 1, 14, 0, 10, 13, 2, 6, 9, 4, 12, 1]\n",
      "# 62 Best Solution so far: [3, 7, 11, 8, 5, 1, 14, 0, 10, 13, 2, 6, 9, 4, 12, 1]\n",
      "# 63 Best Solution so far: [3, 7, 11, 8, 5, 1, 14, 0, 10, 13, 2, 6, 9, 4, 12, 1]\n",
      "# 64 Best Solution so far: [3, 7, 11, 8, 5, 1, 14, 0, 10, 13, 2, 6, 9, 4, 12, 1]\n",
      "# 65 Best Solution so far: [3, 7, 11, 8, 5, 1, 14, 0, 10, 13, 2, 6, 9, 4, 12, 1]\n",
      "# 66 Best Solution so far: [3, 7, 11, 8, 5, 1, 14, 0, 10, 13, 2, 6, 9, 4, 12, 1]\n",
      "# 67 Best Solution so far: [3, 7, 11, 8, 5, 1, 14, 0, 10, 13, 2, 6, 9, 4, 12, 1]\n",
      "# 68 Best Solution so far: [3, 7, 11, 8, 5, 1, 14, 0, 10, 13, 2, 6, 9, 4, 12, 1]\n",
      "# 69 Best Solution so far: [3, 7, 11, 8, 5, 1, 14, 0, 10, 13, 2, 6, 9, 4, 12, 1]\n",
      "# 70 Best Solution so far: [3, 7, 11, 8, 5, 1, 14, 0, 10, 13, 2, 6, 9, 4, 12, 1]\n",
      "# 71 Solution Found: [3, 7, 11, 8, 5, 1, 14, 0, 10, 13, 4, 6, 9, 2, 12, 0]\n"
     ]
    }
   ],
   "source": [
    "current_population = init_population(N, POPULATION_SIZE)\n",
    "current_population = fitness(current_population, N)\n",
    "current_population = sorted(current_population, key=lambda x:x[N])\n",
    "if current_population[0][N]==0:\n",
    "    print(\"Solution Was Found is in the Initial Population:\",current_population[0])\n",
    "else:\n",
    "    while EPOCH:\n",
    "        current_population = cross_over(current_population, N, POPULATION_SIZE)\n",
    "        current_population = mutation(current_population, N, POPULATION_SIZE, MUTATION_RATE)\n",
    "        current_population = fitness(current_population, N)\n",
    "        current_population = sorted(current_population, key=lambda x:x[N])\n",
    "        current_population = current_population[:POPULATION_SIZE]\n",
    "        EPOCH-=1\n",
    "        if current_population[0][N]==0:\n",
    "            print(\"#\",200-EPOCH,\"Solution Found:\",current_population[0])\n",
    "            break\n",
    "        else:\n",
    "            print(\"#\",200-EPOCH,\"Best Solution so far:\",current_population[0])\n",
    "    else:\n",
    "        print(\"Sorry We Couldnt find a solution for you.\")"
   ]
  },
  {
   "cell_type": "code",
   "execution_count": null,
   "metadata": {},
   "outputs": [],
   "source": []
  }
 ],
 "metadata": {
  "kernelspec": {
   "display_name": "Python 3",
   "language": "python",
   "name": "python3"
  },
  "language_info": {
   "codemirror_mode": {
    "name": "ipython",
    "version": 3
   },
   "file_extension": ".py",
   "mimetype": "text/x-python",
   "name": "python",
   "nbconvert_exporter": "python",
   "pygments_lexer": "ipython3",
   "version": "3.7.7"
  }
 },
 "nbformat": 4,
 "nbformat_minor": 4
}
